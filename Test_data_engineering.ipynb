{
 "cells": [
  {
   "cell_type": "code",
   "execution_count": 1,
   "id": "84f8316b",
   "metadata": {},
   "outputs": [],
   "source": [
    "import pandas as pd\n",
    "import numpy as np"
   ]
  },
  {
   "cell_type": "code",
   "execution_count": 2,
   "id": "aab3d8e5",
   "metadata": {},
   "outputs": [],
   "source": [
    "test = pd.read_csv('test.csv')"
   ]
  },
  {
   "cell_type": "code",
   "execution_count": 3,
   "id": "b69b3449",
   "metadata": {},
   "outputs": [
    {
     "data": {
      "text/html": [
       "<div>\n",
       "<style scoped>\n",
       "    .dataframe tbody tr th:only-of-type {\n",
       "        vertical-align: middle;\n",
       "    }\n",
       "\n",
       "    .dataframe tbody tr th {\n",
       "        vertical-align: top;\n",
       "    }\n",
       "\n",
       "    .dataframe thead th {\n",
       "        text-align: right;\n",
       "    }\n",
       "</style>\n",
       "<table border=\"1\" class=\"dataframe\">\n",
       "  <thead>\n",
       "    <tr style=\"text-align: right;\">\n",
       "      <th></th>\n",
       "      <th>Customer ID</th>\n",
       "      <th>Name</th>\n",
       "      <th>Gender</th>\n",
       "      <th>Age</th>\n",
       "      <th>Income (USD)</th>\n",
       "      <th>Income Stability</th>\n",
       "      <th>Profession</th>\n",
       "      <th>Type of Employment</th>\n",
       "      <th>Location</th>\n",
       "      <th>Loan Amount Request (USD)</th>\n",
       "      <th>...</th>\n",
       "      <th>Dependents</th>\n",
       "      <th>Credit Score</th>\n",
       "      <th>No. of Defaults</th>\n",
       "      <th>Has Active Credit Card</th>\n",
       "      <th>Property ID</th>\n",
       "      <th>Property Age</th>\n",
       "      <th>Property Type</th>\n",
       "      <th>Property Location</th>\n",
       "      <th>Co-Applicant</th>\n",
       "      <th>Property Price</th>\n",
       "    </tr>\n",
       "  </thead>\n",
       "  <tbody>\n",
       "    <tr>\n",
       "      <th>0</th>\n",
       "      <td>C-26247</td>\n",
       "      <td>Tandra Olszewski</td>\n",
       "      <td>F</td>\n",
       "      <td>47</td>\n",
       "      <td>3472.69</td>\n",
       "      <td>Low</td>\n",
       "      <td>Commercial associate</td>\n",
       "      <td>Managers</td>\n",
       "      <td>Semi-Urban</td>\n",
       "      <td>137088.98</td>\n",
       "      <td>...</td>\n",
       "      <td>2.0</td>\n",
       "      <td>799.14</td>\n",
       "      <td>0</td>\n",
       "      <td>Unpossessed</td>\n",
       "      <td>843</td>\n",
       "      <td>3472.69</td>\n",
       "      <td>2</td>\n",
       "      <td>Urban</td>\n",
       "      <td>1</td>\n",
       "      <td>236644.5</td>\n",
       "    </tr>\n",
       "    <tr>\n",
       "      <th>1</th>\n",
       "      <td>C-35067</td>\n",
       "      <td>Jeannette Cha</td>\n",
       "      <td>F</td>\n",
       "      <td>57</td>\n",
       "      <td>1184.84</td>\n",
       "      <td>Low</td>\n",
       "      <td>Working</td>\n",
       "      <td>Sales staff</td>\n",
       "      <td>Rural</td>\n",
       "      <td>104771.59</td>\n",
       "      <td>...</td>\n",
       "      <td>2.0</td>\n",
       "      <td>833.31</td>\n",
       "      <td>0</td>\n",
       "      <td>Unpossessed</td>\n",
       "      <td>22</td>\n",
       "      <td>1184.84</td>\n",
       "      <td>1</td>\n",
       "      <td>Rural</td>\n",
       "      <td>1</td>\n",
       "      <td>142357.3</td>\n",
       "    </tr>\n",
       "    <tr>\n",
       "      <th>2</th>\n",
       "      <td>C-34590</td>\n",
       "      <td>Keva Godfrey</td>\n",
       "      <td>F</td>\n",
       "      <td>52</td>\n",
       "      <td>1266.27</td>\n",
       "      <td>Low</td>\n",
       "      <td>Working</td>\n",
       "      <td>NaN</td>\n",
       "      <td>Semi-Urban</td>\n",
       "      <td>176684.91</td>\n",
       "      <td>...</td>\n",
       "      <td>3.0</td>\n",
       "      <td>627.44</td>\n",
       "      <td>0</td>\n",
       "      <td>Unpossessed</td>\n",
       "      <td>1</td>\n",
       "      <td>1266.27</td>\n",
       "      <td>1</td>\n",
       "      <td>Urban</td>\n",
       "      <td>1</td>\n",
       "      <td>300991.24</td>\n",
       "    </tr>\n",
       "    <tr>\n",
       "      <th>3</th>\n",
       "      <td>C-16668</td>\n",
       "      <td>Elva Sackett</td>\n",
       "      <td>M</td>\n",
       "      <td>65</td>\n",
       "      <td>1369.72</td>\n",
       "      <td>High</td>\n",
       "      <td>Pensioner</td>\n",
       "      <td>NaN</td>\n",
       "      <td>Rural</td>\n",
       "      <td>97009.18</td>\n",
       "      <td>...</td>\n",
       "      <td>2.0</td>\n",
       "      <td>833.20</td>\n",
       "      <td>0</td>\n",
       "      <td>Inactive</td>\n",
       "      <td>730</td>\n",
       "      <td>1369.72</td>\n",
       "      <td>1</td>\n",
       "      <td>Semi-Urban</td>\n",
       "      <td>0</td>\n",
       "      <td>125612.1</td>\n",
       "    </tr>\n",
       "    <tr>\n",
       "      <th>4</th>\n",
       "      <td>C-12196</td>\n",
       "      <td>Sade Constable</td>\n",
       "      <td>F</td>\n",
       "      <td>60</td>\n",
       "      <td>1939.23</td>\n",
       "      <td>High</td>\n",
       "      <td>Pensioner</td>\n",
       "      <td>NaN</td>\n",
       "      <td>Urban</td>\n",
       "      <td>109980.00</td>\n",
       "      <td>...</td>\n",
       "      <td>NaN</td>\n",
       "      <td>NaN</td>\n",
       "      <td>0</td>\n",
       "      <td>NaN</td>\n",
       "      <td>356</td>\n",
       "      <td>1939.23</td>\n",
       "      <td>4</td>\n",
       "      <td>Semi-Urban</td>\n",
       "      <td>1</td>\n",
       "      <td>180908.0</td>\n",
       "    </tr>\n",
       "  </tbody>\n",
       "</table>\n",
       "<p>5 rows × 23 columns</p>\n",
       "</div>"
      ],
      "text/plain": [
       "  Customer ID              Name Gender  Age  Income (USD) Income Stability  \\\n",
       "0     C-26247  Tandra Olszewski      F   47       3472.69              Low   \n",
       "1     C-35067     Jeannette Cha      F   57       1184.84              Low   \n",
       "2     C-34590      Keva Godfrey      F   52       1266.27              Low   \n",
       "3     C-16668      Elva Sackett      M   65       1369.72             High   \n",
       "4     C-12196    Sade Constable      F   60       1939.23             High   \n",
       "\n",
       "             Profession Type of Employment    Location  \\\n",
       "0  Commercial associate           Managers  Semi-Urban   \n",
       "1               Working        Sales staff       Rural   \n",
       "2               Working                NaN  Semi-Urban   \n",
       "3             Pensioner                NaN       Rural   \n",
       "4             Pensioner                NaN       Urban   \n",
       "\n",
       "   Loan Amount Request (USD)  ...  Dependents Credit Score No. of Defaults  \\\n",
       "0                  137088.98  ...         2.0       799.14               0   \n",
       "1                  104771.59  ...         2.0       833.31               0   \n",
       "2                  176684.91  ...         3.0       627.44               0   \n",
       "3                   97009.18  ...         2.0       833.20               0   \n",
       "4                  109980.00  ...         NaN          NaN               0   \n",
       "\n",
       "   Has Active Credit Card  Property ID  Property Age Property Type  \\\n",
       "0             Unpossessed          843       3472.69             2   \n",
       "1             Unpossessed           22       1184.84             1   \n",
       "2             Unpossessed            1       1266.27             1   \n",
       "3                Inactive          730       1369.72             1   \n",
       "4                     NaN          356       1939.23             4   \n",
       "\n",
       "   Property Location  Co-Applicant  Property Price  \n",
       "0              Urban             1        236644.5  \n",
       "1              Rural             1        142357.3  \n",
       "2              Urban             1       300991.24  \n",
       "3         Semi-Urban             0        125612.1  \n",
       "4         Semi-Urban             1        180908.0  \n",
       "\n",
       "[5 rows x 23 columns]"
      ]
     },
     "execution_count": 3,
     "metadata": {},
     "output_type": "execute_result"
    }
   ],
   "source": [
    "test.head()"
   ]
  },
  {
   "cell_type": "code",
   "execution_count": 4,
   "id": "b034c788",
   "metadata": {},
   "outputs": [
    {
     "data": {
      "text/plain": [
       "(20000, 23)"
      ]
     },
     "execution_count": 4,
     "metadata": {},
     "output_type": "execute_result"
    }
   ],
   "source": [
    "test.shape"
   ]
  },
  {
   "cell_type": "code",
   "execution_count": 5,
   "id": "da6d14af",
   "metadata": {},
   "outputs": [
    {
     "data": {
      "text/plain": [
       "Index(['Customer ID', 'Name', 'Gender', 'Age', 'Income (USD)',\n",
       "       'Income Stability', 'Profession', 'Type of Employment', 'Location',\n",
       "       'Loan Amount Request (USD)', 'Current Loan Expenses (USD)',\n",
       "       'Expense Type 1', 'Expense Type 2', 'Dependents', 'Credit Score',\n",
       "       'No. of Defaults', 'Has Active Credit Card', 'Property ID',\n",
       "       'Property Age', 'Property Type', 'Property Location', 'Co-Applicant',\n",
       "       'Property Price'],\n",
       "      dtype='object')"
      ]
     },
     "execution_count": 5,
     "metadata": {},
     "output_type": "execute_result"
    }
   ],
   "source": [
    "test.columns"
   ]
  },
  {
   "cell_type": "code",
   "execution_count": 6,
   "id": "5109c2ea",
   "metadata": {},
   "outputs": [
    {
     "data": {
      "text/plain": [
       "Customer ID                       0\n",
       "Name                              0\n",
       "Gender                           31\n",
       "Age                               0\n",
       "Income (USD)                    750\n",
       "Income Stability                813\n",
       "Profession                        0\n",
       "Type of Employment             4689\n",
       "Location                          0\n",
       "Loan Amount Request (USD)         0\n",
       "Current Loan Expenses (USD)      83\n",
       "Expense Type 1                    0\n",
       "Expense Type 2                    0\n",
       "Dependents                     1142\n",
       "Credit Score                    743\n",
       "No. of Defaults                   0\n",
       "Has Active Credit Card         1076\n",
       "Property ID                       0\n",
       "Property Age                    892\n",
       "Property Type                     0\n",
       "Property Location               160\n",
       "Co-Applicant                      0\n",
       "Property Price                    0\n",
       "dtype: int64"
      ]
     },
     "execution_count": 6,
     "metadata": {},
     "output_type": "execute_result"
    }
   ],
   "source": [
    "test.isnull().sum()"
   ]
  },
  {
   "cell_type": "code",
   "execution_count": 7,
   "id": "f77e54f5",
   "metadata": {},
   "outputs": [
    {
     "data": {
      "text/html": [
       "<div>\n",
       "<style scoped>\n",
       "    .dataframe tbody tr th:only-of-type {\n",
       "        vertical-align: middle;\n",
       "    }\n",
       "\n",
       "    .dataframe tbody tr th {\n",
       "        vertical-align: top;\n",
       "    }\n",
       "\n",
       "    .dataframe thead th {\n",
       "        text-align: right;\n",
       "    }\n",
       "</style>\n",
       "<table border=\"1\" class=\"dataframe\">\n",
       "  <thead>\n",
       "    <tr style=\"text-align: right;\">\n",
       "      <th></th>\n",
       "      <th>Age</th>\n",
       "      <th>Income (USD)</th>\n",
       "      <th>Loan Amount Request (USD)</th>\n",
       "      <th>Current Loan Expenses (USD)</th>\n",
       "      <th>Dependents</th>\n",
       "      <th>Credit Score</th>\n",
       "      <th>No. of Defaults</th>\n",
       "      <th>Property ID</th>\n",
       "      <th>Property Age</th>\n",
       "      <th>Property Type</th>\n",
       "    </tr>\n",
       "  </thead>\n",
       "  <tbody>\n",
       "    <tr>\n",
       "      <th>count</th>\n",
       "      <td>20000.000000</td>\n",
       "      <td>19250.000000</td>\n",
       "      <td>20000.000000</td>\n",
       "      <td>19917.000000</td>\n",
       "      <td>18858.000000</td>\n",
       "      <td>19257.000000</td>\n",
       "      <td>20000.000000</td>\n",
       "      <td>20000.000000</td>\n",
       "      <td>19108.000000</td>\n",
       "      <td>20000.00000</td>\n",
       "    </tr>\n",
       "    <tr>\n",
       "      <th>mean</th>\n",
       "      <td>39.940500</td>\n",
       "      <td>2536.995394</td>\n",
       "      <td>88859.076706</td>\n",
       "      <td>408.462359</td>\n",
       "      <td>2.251246</td>\n",
       "      <td>738.821538</td>\n",
       "      <td>0.189500</td>\n",
       "      <td>501.024500</td>\n",
       "      <td>2534.102003</td>\n",
       "      <td>2.47190</td>\n",
       "    </tr>\n",
       "    <tr>\n",
       "      <th>std</th>\n",
       "      <td>16.097618</td>\n",
       "      <td>1415.908803</td>\n",
       "      <td>60007.333673</td>\n",
       "      <td>215.846532</td>\n",
       "      <td>0.953153</td>\n",
       "      <td>72.406504</td>\n",
       "      <td>0.391915</td>\n",
       "      <td>287.537722</td>\n",
       "      <td>1408.509255</td>\n",
       "      <td>1.12551</td>\n",
       "    </tr>\n",
       "    <tr>\n",
       "      <th>min</th>\n",
       "      <td>18.000000</td>\n",
       "      <td>368.590000</td>\n",
       "      <td>6185.480000</td>\n",
       "      <td>41.370000</td>\n",
       "      <td>1.000000</td>\n",
       "      <td>580.040000</td>\n",
       "      <td>0.000000</td>\n",
       "      <td>1.000000</td>\n",
       "      <td>368.590000</td>\n",
       "      <td>1.00000</td>\n",
       "    </tr>\n",
       "    <tr>\n",
       "      <th>25%</th>\n",
       "      <td>25.000000</td>\n",
       "      <td>1659.722500</td>\n",
       "      <td>40889.030000</td>\n",
       "      <td>250.890000</td>\n",
       "      <td>2.000000</td>\n",
       "      <td>680.300000</td>\n",
       "      <td>0.000000</td>\n",
       "      <td>252.000000</td>\n",
       "      <td>1658.397500</td>\n",
       "      <td>1.00000</td>\n",
       "    </tr>\n",
       "    <tr>\n",
       "      <th>50%</th>\n",
       "      <td>40.000000</td>\n",
       "      <td>2224.590000</td>\n",
       "      <td>74565.990000</td>\n",
       "      <td>374.000000</td>\n",
       "      <td>2.000000</td>\n",
       "      <td>739.300000</td>\n",
       "      <td>0.000000</td>\n",
       "      <td>501.000000</td>\n",
       "      <td>2220.605000</td>\n",
       "      <td>2.00000</td>\n",
       "    </tr>\n",
       "    <tr>\n",
       "      <th>75%</th>\n",
       "      <td>55.000000</td>\n",
       "      <td>3082.925000</td>\n",
       "      <td>120068.852500</td>\n",
       "      <td>519.570000</td>\n",
       "      <td>3.000000</td>\n",
       "      <td>797.440000</td>\n",
       "      <td>0.000000</td>\n",
       "      <td>748.000000</td>\n",
       "      <td>3082.250000</td>\n",
       "      <td>3.00000</td>\n",
       "    </tr>\n",
       "    <tr>\n",
       "      <th>max</th>\n",
       "      <td>65.000000</td>\n",
       "      <td>30427.680000</td>\n",
       "      <td>576335.680000</td>\n",
       "      <td>3305.970000</td>\n",
       "      <td>13.000000</td>\n",
       "      <td>893.830000</td>\n",
       "      <td>1.000000</td>\n",
       "      <td>999.000000</td>\n",
       "      <td>30427.680000</td>\n",
       "      <td>4.00000</td>\n",
       "    </tr>\n",
       "  </tbody>\n",
       "</table>\n",
       "</div>"
      ],
      "text/plain": [
       "                Age  Income (USD)  Loan Amount Request (USD)  \\\n",
       "count  20000.000000  19250.000000               20000.000000   \n",
       "mean      39.940500   2536.995394               88859.076706   \n",
       "std       16.097618   1415.908803               60007.333673   \n",
       "min       18.000000    368.590000                6185.480000   \n",
       "25%       25.000000   1659.722500               40889.030000   \n",
       "50%       40.000000   2224.590000               74565.990000   \n",
       "75%       55.000000   3082.925000              120068.852500   \n",
       "max       65.000000  30427.680000              576335.680000   \n",
       "\n",
       "       Current Loan Expenses (USD)    Dependents  Credit Score  \\\n",
       "count                 19917.000000  18858.000000  19257.000000   \n",
       "mean                    408.462359      2.251246    738.821538   \n",
       "std                     215.846532      0.953153     72.406504   \n",
       "min                      41.370000      1.000000    580.040000   \n",
       "25%                     250.890000      2.000000    680.300000   \n",
       "50%                     374.000000      2.000000    739.300000   \n",
       "75%                     519.570000      3.000000    797.440000   \n",
       "max                    3305.970000     13.000000    893.830000   \n",
       "\n",
       "       No. of Defaults   Property ID  Property Age  Property Type  \n",
       "count     20000.000000  20000.000000  19108.000000    20000.00000  \n",
       "mean          0.189500    501.024500   2534.102003        2.47190  \n",
       "std           0.391915    287.537722   1408.509255        1.12551  \n",
       "min           0.000000      1.000000    368.590000        1.00000  \n",
       "25%           0.000000    252.000000   1658.397500        1.00000  \n",
       "50%           0.000000    501.000000   2220.605000        2.00000  \n",
       "75%           0.000000    748.000000   3082.250000        3.00000  \n",
       "max           1.000000    999.000000  30427.680000        4.00000  "
      ]
     },
     "execution_count": 7,
     "metadata": {},
     "output_type": "execute_result"
    }
   ],
   "source": [
    "test.describe()"
   ]
  },
  {
   "cell_type": "code",
   "execution_count": 8,
   "id": "d584bd62",
   "metadata": {},
   "outputs": [
    {
     "name": "stdout",
     "output_type": "stream",
     "text": [
      "<class 'pandas.core.frame.DataFrame'>\n",
      "RangeIndex: 20000 entries, 0 to 19999\n",
      "Data columns (total 23 columns):\n",
      " #   Column                       Non-Null Count  Dtype  \n",
      "---  ------                       --------------  -----  \n",
      " 0   Customer ID                  20000 non-null  object \n",
      " 1   Name                         20000 non-null  object \n",
      " 2   Gender                       19969 non-null  object \n",
      " 3   Age                          20000 non-null  int64  \n",
      " 4   Income (USD)                 19250 non-null  float64\n",
      " 5   Income Stability             19187 non-null  object \n",
      " 6   Profession                   20000 non-null  object \n",
      " 7   Type of Employment           15311 non-null  object \n",
      " 8   Location                     20000 non-null  object \n",
      " 9   Loan Amount Request (USD)    20000 non-null  float64\n",
      " 10  Current Loan Expenses (USD)  19917 non-null  float64\n",
      " 11  Expense Type 1               20000 non-null  object \n",
      " 12  Expense Type 2               20000 non-null  object \n",
      " 13  Dependents                   18858 non-null  float64\n",
      " 14  Credit Score                 19257 non-null  float64\n",
      " 15  No. of Defaults              20000 non-null  int64  \n",
      " 16  Has Active Credit Card       18924 non-null  object \n",
      " 17  Property ID                  20000 non-null  int64  \n",
      " 18  Property Age                 19108 non-null  float64\n",
      " 19  Property Type                20000 non-null  int64  \n",
      " 20  Property Location            19840 non-null  object \n",
      " 21  Co-Applicant                 20000 non-null  object \n",
      " 22  Property Price               20000 non-null  object \n",
      "dtypes: float64(6), int64(4), object(13)\n",
      "memory usage: 3.5+ MB\n"
     ]
    }
   ],
   "source": [
    "test.info()"
   ]
  },
  {
   "cell_type": "code",
   "execution_count": 9,
   "id": "33ae483a",
   "metadata": {},
   "outputs": [
    {
     "data": {
      "text/plain": [
       "(20000, 23)"
      ]
     },
     "execution_count": 9,
     "metadata": {},
     "output_type": "execute_result"
    }
   ],
   "source": [
    "test.shape"
   ]
  },
  {
   "cell_type": "code",
   "execution_count": 10,
   "id": "e263717d",
   "metadata": {},
   "outputs": [],
   "source": [
    "# Removing the Unneccesary columns\n",
    "test.drop(['Customer ID', 'Name'], axis=1, inplace=True)"
   ]
  },
  {
   "cell_type": "code",
   "execution_count": 11,
   "id": "6ec2e0dd",
   "metadata": {},
   "outputs": [
    {
     "data": {
      "text/plain": [
       "(20000, 21)"
      ]
     },
     "execution_count": 11,
     "metadata": {},
     "output_type": "execute_result"
    }
   ],
   "source": [
    "test.shape"
   ]
  },
  {
   "cell_type": "markdown",
   "id": "fb6b8f0d",
   "metadata": {},
   "source": [
    "## Visualization "
   ]
  },
  {
   "cell_type": "code",
   "execution_count": 12,
   "id": "8d5dd06b",
   "metadata": {},
   "outputs": [],
   "source": [
    "import sweetviz as sv"
   ]
  },
  {
   "cell_type": "code",
   "execution_count": 13,
   "id": "8aa77c0f",
   "metadata": {},
   "outputs": [
    {
     "data": {
      "application/vnd.jupyter.widget-view+json": {
       "model_id": "6d208f441b30421381528f80737a3680",
       "version_major": 2,
       "version_minor": 0
      },
      "text/plain": [
       "                                             |                                             | [  0%]   00:00 ->…"
      ]
     },
     "metadata": {},
     "output_type": "display_data"
    }
   ],
   "source": [
    "report_test = sv.analyze(test)"
   ]
  },
  {
   "cell_type": "code",
   "execution_count": 14,
   "id": "c3e17d03",
   "metadata": {},
   "outputs": [
    {
     "name": "stdout",
     "output_type": "stream",
     "text": [
      "Report report_test.html was generated! NOTEBOOK/COLAB USERS: the web browser MAY not pop up, regardless, the report IS saved in your notebook/colab files.\n"
     ]
    }
   ],
   "source": [
    "report_test.show_notebook()"
   ]
  },
  {
   "cell_type": "markdown",
   "id": "76f4a053",
   "metadata": {},
   "source": [
    "## Seaborn  "
   ]
  },
  {
   "cell_type": "code",
   "execution_count": 15,
   "id": "369cc805",
   "metadata": {},
   "outputs": [],
   "source": [
    "import seaborn as sns\n",
    "import matplotlib.pyplot as plt"
   ]
  },
  {
   "cell_type": "code",
   "execution_count": 16,
   "id": "3990b268",
   "metadata": {},
   "outputs": [
    {
     "data": {
      "text/plain": [
       "<AxesSubplot:>"
      ]
     },
     "execution_count": 16,
     "metadata": {},
     "output_type": "execute_result"
    },
    {
     "data": {
      "image/png": "[encoded data removed]",
      "text/plain": [
       "<Figure size 1500x1500 with 2 Axes>"
      ]
     },
     "metadata": {},
     "output_type": "display_data"
    }
   ],
   "source": [
    "# Making Heatpmap correlation\n",
    "plt.figure(figsize=(15,15))\n",
    "sns.heatmap(test.corr(),annot=True )"
   ]
  },
  {
   "cell_type": "markdown",
   "id": "bcc12de6",
   "metadata": {},
   "source": [
    "### Filling Income_stability null values"
   ]
  },
  {
   "cell_type": "code",
   "execution_count": 17,
   "id": "173bb2b8",
   "metadata": {},
   "outputs": [
    {
     "data": {
      "text/plain": [
       "Working                 11405\n",
       "Commercial associate     5247\n",
       "Pensioner                1764\n",
       "State servant            1577\n",
       "Student                     4\n",
       "Unemployed                  2\n",
       "Maternity leave             1\n",
       "Name: Profession, dtype: int64"
      ]
     },
     "execution_count": 17,
     "metadata": {},
     "output_type": "execute_result"
    }
   ],
   "source": [
    "test['Profession'].value_counts()"
   ]
  },
  {
   "cell_type": "code",
   "execution_count": 18,
   "id": "876e7f9d",
   "metadata": {},
   "outputs": [],
   "source": [
    "test['Income_Stability'] = test['Income Stability']"
   ]
  },
  {
   "cell_type": "code",
   "execution_count": 19,
   "id": "fbe85852",
   "metadata": {},
   "outputs": [],
   "source": [
    "test.drop(['Income Stability'], axis=1, inplace=True)"
   ]
  },
  {
   "cell_type": "code",
   "execution_count": 20,
   "id": "525f98f8",
   "metadata": {},
   "outputs": [],
   "source": [
    "def impute_income_stability(cols):\n",
    "    Income_Stability = cols[0]\n",
    "    Profession = cols[1]\n",
    "    \n",
    "    if pd.isnull(Income_Stability):\n",
    "        \n",
    "        if Profession == 'Working':\n",
    "            return 'Low'\n",
    "        elif Profession == 'State servant':\n",
    "            return 'Low'\n",
    "        elif Profession == 'Commercial associate':\n",
    "            return 'Low'\n",
    "        \n",
    "        else:\n",
    "            return 'High'\n",
    "    else:\n",
    "        return Income_Stability\n",
    "        "
   ]
  },
  {
   "cell_type": "code",
   "execution_count": 21,
   "id": "ae8fa957",
   "metadata": {},
   "outputs": [],
   "source": [
    "test['Income_Stability'] = test[['Income_Stability', 'Profession']].apply(impute_income_stability, axis =1)"
   ]
  },
  {
   "cell_type": "code",
   "execution_count": 22,
   "id": "9b384a33",
   "metadata": {},
   "outputs": [
    {
     "data": {
      "text/plain": [
       "Low     18234\n",
       "High     1766\n",
       "Name: Income_Stability, dtype: int64"
      ]
     },
     "execution_count": 22,
     "metadata": {},
     "output_type": "execute_result"
    }
   ],
   "source": [
    "test['Income_Stability'].value_counts()"
   ]
  },
  {
   "cell_type": "code",
   "execution_count": 23,
   "id": "aeaa65d1",
   "metadata": {},
   "outputs": [
    {
     "data": {
      "text/plain": [
       "Gender                           31\n",
       "Age                               0\n",
       "Income (USD)                    750\n",
       "Profession                        0\n",
       "Type of Employment             4689\n",
       "Location                          0\n",
       "Loan Amount Request (USD)         0\n",
       "Current Loan Expenses (USD)      83\n",
       "Expense Type 1                    0\n",
       "Expense Type 2                    0\n",
       "Dependents                     1142\n",
       "Credit Score                    743\n",
       "No. of Defaults                   0\n",
       "Has Active Credit Card         1076\n",
       "Property ID                       0\n",
       "Property Age                    892\n",
       "Property Type                     0\n",
       "Property Location               160\n",
       "Co-Applicant                      0\n",
       "Property Price                    0\n",
       "Income_Stability                  0\n",
       "dtype: int64"
      ]
     },
     "execution_count": 23,
     "metadata": {},
     "output_type": "execute_result"
    }
   ],
   "source": [
    "test.isnull().sum()"
   ]
  },
  {
   "cell_type": "markdown",
   "id": "64338845",
   "metadata": {},
   "source": [
    "### Filling Type_of_employment null values"
   ]
  },
  {
   "cell_type": "code",
   "execution_count": 24,
   "id": "adeaf215",
   "metadata": {},
   "outputs": [],
   "source": [
    "test['Type_of_Employment'] = test['Type of Employment']"
   ]
  },
  {
   "cell_type": "code",
   "execution_count": 25,
   "id": "6d78dee4",
   "metadata": {},
   "outputs": [],
   "source": [
    "test.drop(['Type of Employment'],axis=1,inplace=True)"
   ]
  },
  {
   "cell_type": "code",
   "execution_count": 26,
   "id": "5a6eb75c",
   "metadata": {},
   "outputs": [
    {
     "data": {
      "text/plain": [
       "Laborers                 3743\n",
       "Sales staff              2433\n",
       "Core staff               2232\n",
       "Managers                 1719\n",
       "Drivers                  1057\n",
       "Accountants               886\n",
       "High skill tech staff     881\n",
       "Medicine staff            598\n",
       "Cooking staff             405\n",
       "Security staff            377\n",
       "Cleaning staff            230\n",
       "Private service staff     201\n",
       "Low-skill Laborers        141\n",
       "Secretaries               119\n",
       "Waiters/barmen staff      110\n",
       "Realty agents              68\n",
       "HR staff                   60\n",
       "IT staff                   51\n",
       "Name: Type_of_Employment, dtype: int64"
      ]
     },
     "execution_count": 26,
     "metadata": {},
     "output_type": "execute_result"
    }
   ],
   "source": [
    "test['Type_of_Employment'].value_counts()"
   ]
  },
  {
   "cell_type": "code",
   "execution_count": 27,
   "id": "40ff06e7",
   "metadata": {},
   "outputs": [
    {
     "data": {
      "text/plain": [
       "<AxesSubplot:xlabel='Type_of_Employment', ylabel='Age'>"
      ]
     },
     "execution_count": 27,
     "metadata": {},
     "output_type": "execute_result"
    },
    {
     "data": {
      "image/png": "[encoded data removed]",
      "text/plain": [
       "<Figure size 3500x1500 with 1 Axes>"
      ]
     },
     "metadata": {},
     "output_type": "display_data"
    }
   ],
   "source": [
    "plt.figure(figsize=(35,15))\n",
    "sns.boxplot(x='Type_of_Employment', y='Age', data=test)"
   ]
  },
  {
   "cell_type": "code",
   "execution_count": 28,
   "id": "959db65b",
   "metadata": {},
   "outputs": [],
   "source": [
    "def impute_type_of_employement(cols):\n",
    "    Type_of_Employment = cols[0]\n",
    "    Age = cols[1]\n",
    "    \n",
    "    if pd.isnull(Type_of_Employment):\n",
    "        \n",
    "        if Age == 40:\n",
    "            return 'IT staff'\n",
    "        elif Age == 32:\n",
    "            return 'Realty agents'\n",
    "        else:\n",
    "            return 'Laborers'\n",
    "    else:\n",
    "        return Type_of_Employment\n",
    "        "
   ]
  },
  {
   "cell_type": "code",
   "execution_count": 29,
   "id": "afc3211d",
   "metadata": {},
   "outputs": [],
   "source": [
    "test['Type_of_Employment'] = test[['Type_of_Employment', 'Age']].apply(impute_type_of_employement, axis =1)"
   ]
  },
  {
   "cell_type": "code",
   "execution_count": 30,
   "id": "1f81138f",
   "metadata": {},
   "outputs": [
    {
     "data": {
      "text/plain": [
       "Laborers                 8323\n",
       "Sales staff              2433\n",
       "Core staff               2232\n",
       "Managers                 1719\n",
       "Drivers                  1057\n",
       "Accountants               886\n",
       "High skill tech staff     881\n",
       "Medicine staff            598\n",
       "Cooking staff             405\n",
       "Security staff            377\n",
       "Cleaning staff            230\n",
       "Private service staff     201\n",
       "Low-skill Laborers        141\n",
       "Realty agents             126\n",
       "Secretaries               119\n",
       "Waiters/barmen staff      110\n",
       "IT staff                  102\n",
       "HR staff                   60\n",
       "Name: Type_of_Employment, dtype: int64"
      ]
     },
     "execution_count": 30,
     "metadata": {},
     "output_type": "execute_result"
    }
   ],
   "source": [
    "test['Type_of_Employment'].value_counts()"
   ]
  },
  {
   "cell_type": "code",
   "execution_count": 31,
   "id": "da5bd941",
   "metadata": {},
   "outputs": [
    {
     "data": {
      "text/plain": [
       "Gender                           31\n",
       "Age                               0\n",
       "Income (USD)                    750\n",
       "Profession                        0\n",
       "Location                          0\n",
       "Loan Amount Request (USD)         0\n",
       "Current Loan Expenses (USD)      83\n",
       "Expense Type 1                    0\n",
       "Expense Type 2                    0\n",
       "Dependents                     1142\n",
       "Credit Score                    743\n",
       "No. of Defaults                   0\n",
       "Has Active Credit Card         1076\n",
       "Property ID                       0\n",
       "Property Age                    892\n",
       "Property Type                     0\n",
       "Property Location               160\n",
       "Co-Applicant                      0\n",
       "Property Price                    0\n",
       "Income_Stability                  0\n",
       "Type_of_Employment                0\n",
       "dtype: int64"
      ]
     },
     "execution_count": 31,
     "metadata": {},
     "output_type": "execute_result"
    }
   ],
   "source": [
    "test.isnull().sum()"
   ]
  },
  {
   "cell_type": "markdown",
   "id": "3b4d49cb",
   "metadata": {},
   "source": [
    "### Filling current_loan_expenses null values"
   ]
  },
  {
   "cell_type": "code",
   "execution_count": 32,
   "id": "c68c34ea",
   "metadata": {},
   "outputs": [],
   "source": [
    "test['Current Loan Expenses (USD)'].fillna(test['Current Loan Expenses (USD)'].median(),inplace=True)"
   ]
  },
  {
   "cell_type": "code",
   "execution_count": 33,
   "id": "7f36a037",
   "metadata": {},
   "outputs": [
    {
     "data": {
      "text/plain": [
       "Gender                           31\n",
       "Age                               0\n",
       "Income (USD)                    750\n",
       "Profession                        0\n",
       "Location                          0\n",
       "Loan Amount Request (USD)         0\n",
       "Current Loan Expenses (USD)       0\n",
       "Expense Type 1                    0\n",
       "Expense Type 2                    0\n",
       "Dependents                     1142\n",
       "Credit Score                    743\n",
       "No. of Defaults                   0\n",
       "Has Active Credit Card         1076\n",
       "Property ID                       0\n",
       "Property Age                    892\n",
       "Property Type                     0\n",
       "Property Location               160\n",
       "Co-Applicant                      0\n",
       "Property Price                    0\n",
       "Income_Stability                  0\n",
       "Type_of_Employment                0\n",
       "dtype: int64"
      ]
     },
     "execution_count": 33,
     "metadata": {},
     "output_type": "execute_result"
    }
   ],
   "source": [
    "test.isnull().sum()"
   ]
  },
  {
   "cell_type": "markdown",
   "id": "93ddbcfe",
   "metadata": {},
   "source": [
    "### Filling Dependents null values "
   ]
  },
  {
   "cell_type": "code",
   "execution_count": 34,
   "id": "bcdeda60",
   "metadata": {},
   "outputs": [
    {
     "data": {
      "text/plain": [
       "2.0     8951\n",
       "3.0     3874\n",
       "1.0     3843\n",
       "4.0     1915\n",
       "5.0      245\n",
       "6.0       21\n",
       "8.0        4\n",
       "7.0        3\n",
       "10.0       1\n",
       "13.0       1\n",
       "Name: Dependents, dtype: int64"
      ]
     },
     "execution_count": 34,
     "metadata": {},
     "output_type": "execute_result"
    }
   ],
   "source": [
    "test['Dependents'].value_counts()"
   ]
  },
  {
   "cell_type": "code",
   "execution_count": 35,
   "id": "47ca2ce3",
   "metadata": {},
   "outputs": [],
   "source": [
    "def impute_Dependents(cols):\n",
    "    Dependents = cols[0]\n",
    "    Income_Stability = cols[1]\n",
    "    \n",
    "    if pd.isnull(Dependents):\n",
    "        \n",
    "        if Income_Stability == 'Low':\n",
    "            return 7.0\n",
    "        elif Income_Stability == 'Low':\n",
    "            return 6.0\n",
    "        \n",
    "        else:\n",
    "            return 4.0\n",
    "    else:\n",
    "        return Dependents\n",
    "        "
   ]
  },
  {
   "cell_type": "code",
   "execution_count": 36,
   "id": "51788b90",
   "metadata": {},
   "outputs": [],
   "source": [
    "test['Dependents'] = test[['Dependents', 'Income_Stability']].apply(impute_Dependents, axis =1)"
   ]
  },
  {
   "cell_type": "code",
   "execution_count": 37,
   "id": "a6ca9aab",
   "metadata": {},
   "outputs": [
    {
     "data": {
      "text/plain": [
       "2.0     8951\n",
       "3.0     3874\n",
       "1.0     3843\n",
       "4.0     2011\n",
       "7.0     1049\n",
       "5.0      245\n",
       "6.0       21\n",
       "8.0        4\n",
       "10.0       1\n",
       "13.0       1\n",
       "Name: Dependents, dtype: int64"
      ]
     },
     "execution_count": 37,
     "metadata": {},
     "output_type": "execute_result"
    }
   ],
   "source": [
    "test['Dependents'].value_counts()"
   ]
  },
  {
   "cell_type": "code",
   "execution_count": 38,
   "id": "8d81a47c",
   "metadata": {},
   "outputs": [
    {
     "data": {
      "text/plain": [
       "Gender                           31\n",
       "Age                               0\n",
       "Income (USD)                    750\n",
       "Profession                        0\n",
       "Location                          0\n",
       "Loan Amount Request (USD)         0\n",
       "Current Loan Expenses (USD)       0\n",
       "Expense Type 1                    0\n",
       "Expense Type 2                    0\n",
       "Dependents                        0\n",
       "Credit Score                    743\n",
       "No. of Defaults                   0\n",
       "Has Active Credit Card         1076\n",
       "Property ID                       0\n",
       "Property Age                    892\n",
       "Property Type                     0\n",
       "Property Location               160\n",
       "Co-Applicant                      0\n",
       "Property Price                    0\n",
       "Income_Stability                  0\n",
       "Type_of_Employment                0\n",
       "dtype: int64"
      ]
     },
     "execution_count": 38,
     "metadata": {},
     "output_type": "execute_result"
    }
   ],
   "source": [
    "test.isnull().sum()"
   ]
  },
  {
   "cell_type": "markdown",
   "id": "a104c4d1",
   "metadata": {},
   "source": [
    "### Filling Credit Score null values"
   ]
  },
  {
   "cell_type": "code",
   "execution_count": 39,
   "id": "2dcd7d4b",
   "metadata": {},
   "outputs": [],
   "source": [
    "test['Credit Score'] = test['Credit Score'].fillna(test['Credit Score'].mean())"
   ]
  },
  {
   "cell_type": "code",
   "execution_count": 40,
   "id": "8225f11c",
   "metadata": {},
   "outputs": [
    {
     "data": {
      "text/plain": [
       "Gender                           31\n",
       "Age                               0\n",
       "Income (USD)                    750\n",
       "Profession                        0\n",
       "Location                          0\n",
       "Loan Amount Request (USD)         0\n",
       "Current Loan Expenses (USD)       0\n",
       "Expense Type 1                    0\n",
       "Expense Type 2                    0\n",
       "Dependents                        0\n",
       "Credit Score                      0\n",
       "No. of Defaults                   0\n",
       "Has Active Credit Card         1076\n",
       "Property ID                       0\n",
       "Property Age                    892\n",
       "Property Type                     0\n",
       "Property Location               160\n",
       "Co-Applicant                      0\n",
       "Property Price                    0\n",
       "Income_Stability                  0\n",
       "Type_of_Employment                0\n",
       "dtype: int64"
      ]
     },
     "execution_count": 40,
     "metadata": {},
     "output_type": "execute_result"
    }
   ],
   "source": [
    "test.isnull().sum()"
   ]
  },
  {
   "cell_type": "markdown",
   "id": "b5a98fb2",
   "metadata": {},
   "source": [
    "### Filling Has Active Credit Card null values "
   ]
  },
  {
   "cell_type": "code",
   "execution_count": 41,
   "id": "2bdf45ca",
   "metadata": {},
   "outputs": [
    {
     "data": {
      "text/plain": [
       "Y    13383\n",
       "N     6617\n",
       "Name: Expense Type 2, dtype: int64"
      ]
     },
     "execution_count": 41,
     "metadata": {},
     "output_type": "execute_result"
    }
   ],
   "source": [
    "test['Expense Type 2'].value_counts()"
   ]
  },
  {
   "cell_type": "code",
   "execution_count": 42,
   "id": "33fe5ca1",
   "metadata": {},
   "outputs": [],
   "source": [
    "test['Has Active Credit Card'] = test['Has Active Credit Card'].fillna('Active')"
   ]
  },
  {
   "cell_type": "code",
   "execution_count": 43,
   "id": "bc608373",
   "metadata": {},
   "outputs": [
    {
     "data": {
      "text/plain": [
       "Active         7494\n",
       "Inactive       6376\n",
       "Unpossessed    6130\n",
       "Name: Has Active Credit Card, dtype: int64"
      ]
     },
     "execution_count": 43,
     "metadata": {},
     "output_type": "execute_result"
    }
   ],
   "source": [
    "test['Has Active Credit Card'].value_counts()"
   ]
  },
  {
   "cell_type": "code",
   "execution_count": 44,
   "id": "3b81af96",
   "metadata": {},
   "outputs": [
    {
     "data": {
      "text/plain": [
       "Gender                          31\n",
       "Age                              0\n",
       "Income (USD)                   750\n",
       "Profession                       0\n",
       "Location                         0\n",
       "Loan Amount Request (USD)        0\n",
       "Current Loan Expenses (USD)      0\n",
       "Expense Type 1                   0\n",
       "Expense Type 2                   0\n",
       "Dependents                       0\n",
       "Credit Score                     0\n",
       "No. of Defaults                  0\n",
       "Has Active Credit Card           0\n",
       "Property ID                      0\n",
       "Property Age                   892\n",
       "Property Type                    0\n",
       "Property Location              160\n",
       "Co-Applicant                     0\n",
       "Property Price                   0\n",
       "Income_Stability                 0\n",
       "Type_of_Employment               0\n",
       "dtype: int64"
      ]
     },
     "execution_count": 44,
     "metadata": {},
     "output_type": "execute_result"
    }
   ],
   "source": [
    "test.isnull().sum()"
   ]
  },
  {
   "cell_type": "markdown",
   "id": "c4557fd9",
   "metadata": {},
   "source": [
    "### Filling property location null values"
   ]
  },
  {
   "cell_type": "code",
   "execution_count": 45,
   "id": "dbf2f27a",
   "metadata": {},
   "outputs": [
    {
     "data": {
      "text/plain": [
       "Semi-Urban    6839\n",
       "Rural         6768\n",
       "Urban         6233\n",
       "Name: Property Location, dtype: int64"
      ]
     },
     "execution_count": 45,
     "metadata": {},
     "output_type": "execute_result"
    }
   ],
   "source": [
    "test['Property Location'].value_counts()"
   ]
  },
  {
   "cell_type": "code",
   "execution_count": 46,
   "id": "85fafbf4",
   "metadata": {},
   "outputs": [],
   "source": [
    "test['Property Location']=test['Property Location'].fillna('Semi-Urban')"
   ]
  },
  {
   "cell_type": "code",
   "execution_count": 47,
   "id": "e576bffd",
   "metadata": {},
   "outputs": [
    {
     "data": {
      "text/plain": [
       "Gender                          31\n",
       "Age                              0\n",
       "Income (USD)                   750\n",
       "Profession                       0\n",
       "Location                         0\n",
       "Loan Amount Request (USD)        0\n",
       "Current Loan Expenses (USD)      0\n",
       "Expense Type 1                   0\n",
       "Expense Type 2                   0\n",
       "Dependents                       0\n",
       "Credit Score                     0\n",
       "No. of Defaults                  0\n",
       "Has Active Credit Card           0\n",
       "Property ID                      0\n",
       "Property Age                   892\n",
       "Property Type                    0\n",
       "Property Location                0\n",
       "Co-Applicant                     0\n",
       "Property Price                   0\n",
       "Income_Stability                 0\n",
       "Type_of_Employment               0\n",
       "dtype: int64"
      ]
     },
     "execution_count": 47,
     "metadata": {},
     "output_type": "execute_result"
    }
   ],
   "source": [
    "test.isnull().sum()"
   ]
  },
  {
   "cell_type": "markdown",
   "id": "6f8fba7e",
   "metadata": {},
   "source": [
    "### Filling age null values"
   ]
  },
  {
   "cell_type": "code",
   "execution_count": 48,
   "id": "7c1196cc",
   "metadata": {},
   "outputs": [
    {
     "data": {
      "text/plain": [
       "F    10142\n",
       "M     9827\n",
       "Name: Gender, dtype: int64"
      ]
     },
     "execution_count": 48,
     "metadata": {},
     "output_type": "execute_result"
    }
   ],
   "source": [
    "test['Gender'].value_counts()"
   ]
  },
  {
   "cell_type": "code",
   "execution_count": 49,
   "id": "cb92fe25",
   "metadata": {},
   "outputs": [],
   "source": [
    "test['Gender']=test['Gender'].fillna('M')"
   ]
  },
  {
   "cell_type": "code",
   "execution_count": 50,
   "id": "715b4b17",
   "metadata": {},
   "outputs": [
    {
     "data": {
      "text/plain": [
       "Gender                           0\n",
       "Age                              0\n",
       "Income (USD)                   750\n",
       "Profession                       0\n",
       "Location                         0\n",
       "Loan Amount Request (USD)        0\n",
       "Current Loan Expenses (USD)      0\n",
       "Expense Type 1                   0\n",
       "Expense Type 2                   0\n",
       "Dependents                       0\n",
       "Credit Score                     0\n",
       "No. of Defaults                  0\n",
       "Has Active Credit Card           0\n",
       "Property ID                      0\n",
       "Property Age                   892\n",
       "Property Type                    0\n",
       "Property Location                0\n",
       "Co-Applicant                     0\n",
       "Property Price                   0\n",
       "Income_Stability                 0\n",
       "Type_of_Employment               0\n",
       "dtype: int64"
      ]
     },
     "execution_count": 50,
     "metadata": {},
     "output_type": "execute_result"
    }
   ],
   "source": [
    "test.isnull().sum()"
   ]
  },
  {
   "cell_type": "markdown",
   "id": "e532f77d",
   "metadata": {},
   "source": [
    "### Filling Income(USD) null values"
   ]
  },
  {
   "cell_type": "code",
   "execution_count": 51,
   "id": "b1c9d7ff",
   "metadata": {},
   "outputs": [],
   "source": [
    "test['Income (USD)'] = test['Income (USD)'].fillna(2415.7)"
   ]
  },
  {
   "cell_type": "code",
   "execution_count": 52,
   "id": "d3596354",
   "metadata": {},
   "outputs": [
    {
     "data": {
      "text/plain": [
       "Gender                           0\n",
       "Age                              0\n",
       "Income (USD)                     0\n",
       "Profession                       0\n",
       "Location                         0\n",
       "Loan Amount Request (USD)        0\n",
       "Current Loan Expenses (USD)      0\n",
       "Expense Type 1                   0\n",
       "Expense Type 2                   0\n",
       "Dependents                       0\n",
       "Credit Score                     0\n",
       "No. of Defaults                  0\n",
       "Has Active Credit Card           0\n",
       "Property ID                      0\n",
       "Property Age                   892\n",
       "Property Type                    0\n",
       "Property Location                0\n",
       "Co-Applicant                     0\n",
       "Property Price                   0\n",
       "Income_Stability                 0\n",
       "Type_of_Employment               0\n",
       "dtype: int64"
      ]
     },
     "execution_count": 52,
     "metadata": {},
     "output_type": "execute_result"
    }
   ],
   "source": [
    "test.isnull().sum()"
   ]
  },
  {
   "cell_type": "markdown",
   "id": "d725dbfe",
   "metadata": {},
   "source": [
    "### Filling Property Age null values"
   ]
  },
  {
   "cell_type": "code",
   "execution_count": 53,
   "id": "acc68bc5",
   "metadata": {},
   "outputs": [],
   "source": [
    "test['Property Age'] = test['Property Age'].fillna(2415.7)"
   ]
  },
  {
   "cell_type": "code",
   "execution_count": 54,
   "id": "516b70d5",
   "metadata": {},
   "outputs": [
    {
     "data": {
      "text/plain": [
       "Gender                         0\n",
       "Age                            0\n",
       "Income (USD)                   0\n",
       "Profession                     0\n",
       "Location                       0\n",
       "Loan Amount Request (USD)      0\n",
       "Current Loan Expenses (USD)    0\n",
       "Expense Type 1                 0\n",
       "Expense Type 2                 0\n",
       "Dependents                     0\n",
       "Credit Score                   0\n",
       "No. of Defaults                0\n",
       "Has Active Credit Card         0\n",
       "Property ID                    0\n",
       "Property Age                   0\n",
       "Property Type                  0\n",
       "Property Location              0\n",
       "Co-Applicant                   0\n",
       "Property Price                 0\n",
       "Income_Stability               0\n",
       "Type_of_Employment             0\n",
       "dtype: int64"
      ]
     },
     "execution_count": 54,
     "metadata": {},
     "output_type": "execute_result"
    }
   ],
   "source": [
    "test.isnull().sum()"
   ]
  },
  {
   "cell_type": "code",
   "execution_count": 55,
   "id": "58d99c5f",
   "metadata": {
    "scrolled": true
   },
   "outputs": [
    {
     "name": "stdout",
     "output_type": "stream",
     "text": [
      "<class 'pandas.core.frame.DataFrame'>\n",
      "RangeIndex: 20000 entries, 0 to 19999\n",
      "Data columns (total 21 columns):\n",
      " #   Column                       Non-Null Count  Dtype  \n",
      "---  ------                       --------------  -----  \n",
      " 0   Gender                       20000 non-null  object \n",
      " 1   Age                          20000 non-null  int64  \n",
      " 2   Income (USD)                 20000 non-null  float64\n",
      " 3   Profession                   20000 non-null  object \n",
      " 4   Location                     20000 non-null  object \n",
      " 5   Loan Amount Request (USD)    20000 non-null  float64\n",
      " 6   Current Loan Expenses (USD)  20000 non-null  float64\n",
      " 7   Expense Type 1               20000 non-null  object \n",
      " 8   Expense Type 2               20000 non-null  object \n",
      " 9   Dependents                   20000 non-null  float64\n",
      " 10  Credit Score                 20000 non-null  float64\n",
      " 11  No. of Defaults              20000 non-null  int64  \n",
      " 12  Has Active Credit Card       20000 non-null  object \n",
      " 13  Property ID                  20000 non-null  int64  \n",
      " 14  Property Age                 20000 non-null  float64\n",
      " 15  Property Type                20000 non-null  int64  \n",
      " 16  Property Location            20000 non-null  object \n",
      " 17  Co-Applicant                 20000 non-null  object \n",
      " 18  Property Price               20000 non-null  object \n",
      " 19  Income_Stability             20000 non-null  object \n",
      " 20  Type_of_Employment           20000 non-null  object \n",
      "dtypes: float64(6), int64(4), object(11)\n",
      "memory usage: 3.2+ MB\n"
     ]
    }
   ],
   "source": [
    "test.info()"
   ]
  },
  {
   "cell_type": "code",
   "execution_count": 56,
   "id": "a12e6dc3",
   "metadata": {},
   "outputs": [
    {
     "name": "stderr",
     "output_type": "stream",
     "text": [
      "<ipython-input-56-a3bc9ec6ed89>:1: FutureWarning: The default value of regex will change from True to False in a future version. In addition, single character regular expressions will*not* be treated as literal strings when regex=True.\n",
      "  train['Co-Applicant']=train['Co-Applicant'].apply(str).str.replace('?', '1')\n"
     ]
    }
   ],
   "source": [
    "test['Co-Applicant']=test['Co-Applicant'].apply(str).str.replace('?', '1')"
   ]
  },
  {
   "cell_type": "code",
   "execution_count": 57,
   "id": "67d3a62e",
   "metadata": {},
   "outputs": [
    {
     "name": "stderr",
     "output_type": "stream",
     "text": [
      "<ipython-input-57-f867b5981fc2>:1: FutureWarning: The default value of regex will change from True to False in a future version. In addition, single character regular expressions will*not* be treated as literal strings when regex=True.\n",
      "  train['Property Price']= train['Property Price'].str.replace('?','0').astype(float)\n"
     ]
    }
   ],
   "source": [
    "test['Property Price']= test['Property Price'].str.replace('?','0').astype(float)"
   ]
  },
  {
   "cell_type": "code",
   "execution_count": 58,
   "id": "736c6f01",
   "metadata": {},
   "outputs": [
    {
     "name": "stdout",
     "output_type": "stream",
     "text": [
      "<class 'pandas.core.frame.DataFrame'>\n",
      "RangeIndex: 20000 entries, 0 to 19999\n",
      "Data columns (total 21 columns):\n",
      " #   Column                       Non-Null Count  Dtype  \n",
      "---  ------                       --------------  -----  \n",
      " 0   Gender                       20000 non-null  object \n",
      " 1   Age                          20000 non-null  int64  \n",
      " 2   Income (USD)                 20000 non-null  float64\n",
      " 3   Profession                   20000 non-null  object \n",
      " 4   Location                     20000 non-null  object \n",
      " 5   Loan Amount Request (USD)    20000 non-null  float64\n",
      " 6   Current Loan Expenses (USD)  20000 non-null  float64\n",
      " 7   Expense Type 1               20000 non-null  object \n",
      " 8   Expense Type 2               20000 non-null  object \n",
      " 9   Dependents                   20000 non-null  float64\n",
      " 10  Credit Score                 20000 non-null  float64\n",
      " 11  No. of Defaults              20000 non-null  int64  \n",
      " 12  Has Active Credit Card       20000 non-null  object \n",
      " 13  Property ID                  20000 non-null  int64  \n",
      " 14  Property Age                 20000 non-null  float64\n",
      " 15  Property Type                20000 non-null  int64  \n",
      " 16  Property Location            20000 non-null  object \n",
      " 17  Co-Applicant                 20000 non-null  object \n",
      " 18  Property Price               20000 non-null  float64\n",
      " 19  Income_Stability             20000 non-null  object \n",
      " 20  Type_of_Employment           20000 non-null  object \n",
      "dtypes: float64(7), int64(4), object(10)\n",
      "memory usage: 3.2+ MB\n"
     ]
    }
   ],
   "source": [
    "test.info()"
   ]
  },
  {
   "cell_type": "code",
   "execution_count": 59,
   "id": "c253a120",
   "metadata": {},
   "outputs": [
    {
     "data": {
      "text/plain": [
       "1    17081\n",
       "0     2919\n",
       "Name: Co-Applicant, dtype: int64"
      ]
     },
     "execution_count": 59,
     "metadata": {},
     "output_type": "execute_result"
    }
   ],
   "source": [
    "test['Co-Applicant'].value_counts()"
   ]
  },
  {
   "cell_type": "markdown",
   "id": "3788f284",
   "metadata": {},
   "source": [
    "## Now converting Categorical values into numeric using Pandas Dummy function"
   ]
  },
  {
   "cell_type": "code",
   "execution_count": 60,
   "id": "a5f53a29",
   "metadata": {},
   "outputs": [],
   "source": [
    "test_dumies = pd.get_dummies(test)"
   ]
  },
  {
   "cell_type": "code",
   "execution_count": 61,
   "id": "10e9303b",
   "metadata": {},
   "outputs": [
    {
     "data": {
      "text/html": [
       "<div>\n",
       "<style scoped>\n",
       "    .dataframe tbody tr th:only-of-type {\n",
       "        vertical-align: middle;\n",
       "    }\n",
       "\n",
       "    .dataframe tbody tr th {\n",
       "        vertical-align: top;\n",
       "    }\n",
       "\n",
       "    .dataframe thead th {\n",
       "        text-align: right;\n",
       "    }\n",
       "</style>\n",
       "<table border=\"1\" class=\"dataframe\">\n",
       "  <thead>\n",
       "    <tr style=\"text-align: right;\">\n",
       "      <th></th>\n",
       "      <th>Age</th>\n",
       "      <th>Income (USD)</th>\n",
       "      <th>Loan Amount Request (USD)</th>\n",
       "      <th>Current Loan Expenses (USD)</th>\n",
       "      <th>Dependents</th>\n",
       "      <th>Credit Score</th>\n",
       "      <th>No. of Defaults</th>\n",
       "      <th>Property ID</th>\n",
       "      <th>Property Age</th>\n",
       "      <th>Property Type</th>\n",
       "      <th>...</th>\n",
       "      <th>Type_of_Employment_Laborers</th>\n",
       "      <th>Type_of_Employment_Low-skill Laborers</th>\n",
       "      <th>Type_of_Employment_Managers</th>\n",
       "      <th>Type_of_Employment_Medicine staff</th>\n",
       "      <th>Type_of_Employment_Private service staff</th>\n",
       "      <th>Type_of_Employment_Realty agents</th>\n",
       "      <th>Type_of_Employment_Sales staff</th>\n",
       "      <th>Type_of_Employment_Secretaries</th>\n",
       "      <th>Type_of_Employment_Security staff</th>\n",
       "      <th>Type_of_Employment_Waiters/barmen staff</th>\n",
       "    </tr>\n",
       "  </thead>\n",
       "  <tbody>\n",
       "    <tr>\n",
       "      <th>0</th>\n",
       "      <td>47</td>\n",
       "      <td>3472.69</td>\n",
       "      <td>137088.98</td>\n",
       "      <td>396.72</td>\n",
       "      <td>2.0</td>\n",
       "      <td>799.140000</td>\n",
       "      <td>0</td>\n",
       "      <td>843</td>\n",
       "      <td>3472.69</td>\n",
       "      <td>2</td>\n",
       "      <td>...</td>\n",
       "      <td>0</td>\n",
       "      <td>0</td>\n",
       "      <td>1</td>\n",
       "      <td>0</td>\n",
       "      <td>0</td>\n",
       "      <td>0</td>\n",
       "      <td>0</td>\n",
       "      <td>0</td>\n",
       "      <td>0</td>\n",
       "      <td>0</td>\n",
       "    </tr>\n",
       "    <tr>\n",
       "      <th>1</th>\n",
       "      <td>57</td>\n",
       "      <td>1184.84</td>\n",
       "      <td>104771.59</td>\n",
       "      <td>463.76</td>\n",
       "      <td>2.0</td>\n",
       "      <td>833.310000</td>\n",
       "      <td>0</td>\n",
       "      <td>22</td>\n",
       "      <td>1184.84</td>\n",
       "      <td>1</td>\n",
       "      <td>...</td>\n",
       "      <td>0</td>\n",
       "      <td>0</td>\n",
       "      <td>0</td>\n",
       "      <td>0</td>\n",
       "      <td>0</td>\n",
       "      <td>0</td>\n",
       "      <td>1</td>\n",
       "      <td>0</td>\n",
       "      <td>0</td>\n",
       "      <td>0</td>\n",
       "    </tr>\n",
       "    <tr>\n",
       "      <th>2</th>\n",
       "      <td>52</td>\n",
       "      <td>1266.27</td>\n",
       "      <td>176684.91</td>\n",
       "      <td>493.15</td>\n",
       "      <td>3.0</td>\n",
       "      <td>627.440000</td>\n",
       "      <td>0</td>\n",
       "      <td>1</td>\n",
       "      <td>1266.27</td>\n",
       "      <td>1</td>\n",
       "      <td>...</td>\n",
       "      <td>1</td>\n",
       "      <td>0</td>\n",
       "      <td>0</td>\n",
       "      <td>0</td>\n",
       "      <td>0</td>\n",
       "      <td>0</td>\n",
       "      <td>0</td>\n",
       "      <td>0</td>\n",
       "      <td>0</td>\n",
       "      <td>0</td>\n",
       "    </tr>\n",
       "    <tr>\n",
       "      <th>3</th>\n",
       "      <td>65</td>\n",
       "      <td>1369.72</td>\n",
       "      <td>97009.18</td>\n",
       "      <td>446.15</td>\n",
       "      <td>2.0</td>\n",
       "      <td>833.200000</td>\n",
       "      <td>0</td>\n",
       "      <td>730</td>\n",
       "      <td>1369.72</td>\n",
       "      <td>1</td>\n",
       "      <td>...</td>\n",
       "      <td>1</td>\n",
       "      <td>0</td>\n",
       "      <td>0</td>\n",
       "      <td>0</td>\n",
       "      <td>0</td>\n",
       "      <td>0</td>\n",
       "      <td>0</td>\n",
       "      <td>0</td>\n",
       "      <td>0</td>\n",
       "      <td>0</td>\n",
       "    </tr>\n",
       "    <tr>\n",
       "      <th>4</th>\n",
       "      <td>60</td>\n",
       "      <td>1939.23</td>\n",
       "      <td>109980.00</td>\n",
       "      <td>370.10</td>\n",
       "      <td>4.0</td>\n",
       "      <td>738.821538</td>\n",
       "      <td>0</td>\n",
       "      <td>356</td>\n",
       "      <td>1939.23</td>\n",
       "      <td>4</td>\n",
       "      <td>...</td>\n",
       "      <td>1</td>\n",
       "      <td>0</td>\n",
       "      <td>0</td>\n",
       "      <td>0</td>\n",
       "      <td>0</td>\n",
       "      <td>0</td>\n",
       "      <td>0</td>\n",
       "      <td>0</td>\n",
       "      <td>0</td>\n",
       "      <td>0</td>\n",
       "    </tr>\n",
       "    <tr>\n",
       "      <th>...</th>\n",
       "      <td>...</td>\n",
       "      <td>...</td>\n",
       "      <td>...</td>\n",
       "      <td>...</td>\n",
       "      <td>...</td>\n",
       "      <td>...</td>\n",
       "      <td>...</td>\n",
       "      <td>...</td>\n",
       "      <td>...</td>\n",
       "      <td>...</td>\n",
       "      <td>...</td>\n",
       "      <td>...</td>\n",
       "      <td>...</td>\n",
       "      <td>...</td>\n",
       "      <td>...</td>\n",
       "      <td>...</td>\n",
       "      <td>...</td>\n",
       "      <td>...</td>\n",
       "      <td>...</td>\n",
       "      <td>...</td>\n",
       "      <td>...</td>\n",
       "    </tr>\n",
       "    <tr>\n",
       "      <th>19995</th>\n",
       "      <td>19</td>\n",
       "      <td>1349.60</td>\n",
       "      <td>156766.97</td>\n",
       "      <td>500.59</td>\n",
       "      <td>4.0</td>\n",
       "      <td>684.320000</td>\n",
       "      <td>0</td>\n",
       "      <td>681</td>\n",
       "      <td>1349.60</td>\n",
       "      <td>4</td>\n",
       "      <td>...</td>\n",
       "      <td>1</td>\n",
       "      <td>0</td>\n",
       "      <td>0</td>\n",
       "      <td>0</td>\n",
       "      <td>0</td>\n",
       "      <td>0</td>\n",
       "      <td>0</td>\n",
       "      <td>0</td>\n",
       "      <td>0</td>\n",
       "      <td>0</td>\n",
       "    </tr>\n",
       "    <tr>\n",
       "      <th>19996</th>\n",
       "      <td>22</td>\n",
       "      <td>2019.78</td>\n",
       "      <td>47924.80</td>\n",
       "      <td>243.02</td>\n",
       "      <td>7.0</td>\n",
       "      <td>706.340000</td>\n",
       "      <td>0</td>\n",
       "      <td>213</td>\n",
       "      <td>2019.78</td>\n",
       "      <td>4</td>\n",
       "      <td>...</td>\n",
       "      <td>0</td>\n",
       "      <td>0</td>\n",
       "      <td>0</td>\n",
       "      <td>0</td>\n",
       "      <td>0</td>\n",
       "      <td>0</td>\n",
       "      <td>0</td>\n",
       "      <td>0</td>\n",
       "      <td>0</td>\n",
       "      <td>0</td>\n",
       "    </tr>\n",
       "    <tr>\n",
       "      <th>19997</th>\n",
       "      <td>19</td>\n",
       "      <td>2252.03</td>\n",
       "      <td>18629.88</td>\n",
       "      <td>101.88</td>\n",
       "      <td>1.0</td>\n",
       "      <td>656.460000</td>\n",
       "      <td>0</td>\n",
       "      <td>270</td>\n",
       "      <td>2252.03</td>\n",
       "      <td>2</td>\n",
       "      <td>...</td>\n",
       "      <td>0</td>\n",
       "      <td>0</td>\n",
       "      <td>0</td>\n",
       "      <td>0</td>\n",
       "      <td>0</td>\n",
       "      <td>0</td>\n",
       "      <td>0</td>\n",
       "      <td>0</td>\n",
       "      <td>0</td>\n",
       "      <td>0</td>\n",
       "    </tr>\n",
       "    <tr>\n",
       "      <th>19998</th>\n",
       "      <td>21</td>\n",
       "      <td>1845.35</td>\n",
       "      <td>95430.73</td>\n",
       "      <td>271.31</td>\n",
       "      <td>2.0</td>\n",
       "      <td>865.460000</td>\n",
       "      <td>0</td>\n",
       "      <td>489</td>\n",
       "      <td>1845.35</td>\n",
       "      <td>1</td>\n",
       "      <td>...</td>\n",
       "      <td>1</td>\n",
       "      <td>0</td>\n",
       "      <td>0</td>\n",
       "      <td>0</td>\n",
       "      <td>0</td>\n",
       "      <td>0</td>\n",
       "      <td>0</td>\n",
       "      <td>0</td>\n",
       "      <td>0</td>\n",
       "      <td>0</td>\n",
       "    </tr>\n",
       "    <tr>\n",
       "      <th>19999</th>\n",
       "      <td>21</td>\n",
       "      <td>5233.16</td>\n",
       "      <td>107966.03</td>\n",
       "      <td>983.45</td>\n",
       "      <td>3.0</td>\n",
       "      <td>857.160000</td>\n",
       "      <td>1</td>\n",
       "      <td>368</td>\n",
       "      <td>5233.16</td>\n",
       "      <td>4</td>\n",
       "      <td>...</td>\n",
       "      <td>1</td>\n",
       "      <td>0</td>\n",
       "      <td>0</td>\n",
       "      <td>0</td>\n",
       "      <td>0</td>\n",
       "      <td>0</td>\n",
       "      <td>0</td>\n",
       "      <td>0</td>\n",
       "      <td>0</td>\n",
       "      <td>0</td>\n",
       "    </tr>\n",
       "  </tbody>\n",
       "</table>\n",
       "<p>20000 rows × 55 columns</p>\n",
       "</div>"
      ],
      "text/plain": [
       "       Age  Income (USD)  Loan Amount Request (USD)  \\\n",
       "0       47       3472.69                  137088.98   \n",
       "1       57       1184.84                  104771.59   \n",
       "2       52       1266.27                  176684.91   \n",
       "3       65       1369.72                   97009.18   \n",
       "4       60       1939.23                  109980.00   \n",
       "...    ...           ...                        ...   \n",
       "19995   19       1349.60                  156766.97   \n",
       "19996   22       2019.78                   47924.80   \n",
       "19997   19       2252.03                   18629.88   \n",
       "19998   21       1845.35                   95430.73   \n",
       "19999   21       5233.16                  107966.03   \n",
       "\n",
       "       Current Loan Expenses (USD)  Dependents  Credit Score  No. of Defaults  \\\n",
       "0                           396.72         2.0    799.140000                0   \n",
       "1                           463.76         2.0    833.310000                0   \n",
       "2                           493.15         3.0    627.440000                0   \n",
       "3                           446.15         2.0    833.200000                0   \n",
       "4                           370.10         4.0    738.821538                0   \n",
       "...                            ...         ...           ...              ...   \n",
       "19995                       500.59         4.0    684.320000                0   \n",
       "19996                       243.02         7.0    706.340000                0   \n",
       "19997                       101.88         1.0    656.460000                0   \n",
       "19998                       271.31         2.0    865.460000                0   \n",
       "19999                       983.45         3.0    857.160000                1   \n",
       "\n",
       "       Property ID  Property Age  Property Type  ...  \\\n",
       "0              843       3472.69              2  ...   \n",
       "1               22       1184.84              1  ...   \n",
       "2                1       1266.27              1  ...   \n",
       "3              730       1369.72              1  ...   \n",
       "4              356       1939.23              4  ...   \n",
       "...            ...           ...            ...  ...   \n",
       "19995          681       1349.60              4  ...   \n",
       "19996          213       2019.78              4  ...   \n",
       "19997          270       2252.03              2  ...   \n",
       "19998          489       1845.35              1  ...   \n",
       "19999          368       5233.16              4  ...   \n",
       "\n",
       "       Type_of_Employment_Laborers  Type_of_Employment_Low-skill Laborers  \\\n",
       "0                                0                                      0   \n",
       "1                                0                                      0   \n",
       "2                                1                                      0   \n",
       "3                                1                                      0   \n",
       "4                                1                                      0   \n",
       "...                            ...                                    ...   \n",
       "19995                            1                                      0   \n",
       "19996                            0                                      0   \n",
       "19997                            0                                      0   \n",
       "19998                            1                                      0   \n",
       "19999                            1                                      0   \n",
       "\n",
       "       Type_of_Employment_Managers  Type_of_Employment_Medicine staff  \\\n",
       "0                                1                                  0   \n",
       "1                                0                                  0   \n",
       "2                                0                                  0   \n",
       "3                                0                                  0   \n",
       "4                                0                                  0   \n",
       "...                            ...                                ...   \n",
       "19995                            0                                  0   \n",
       "19996                            0                                  0   \n",
       "19997                            0                                  0   \n",
       "19998                            0                                  0   \n",
       "19999                            0                                  0   \n",
       "\n",
       "       Type_of_Employment_Private service staff  \\\n",
       "0                                             0   \n",
       "1                                             0   \n",
       "2                                             0   \n",
       "3                                             0   \n",
       "4                                             0   \n",
       "...                                         ...   \n",
       "19995                                         0   \n",
       "19996                                         0   \n",
       "19997                                         0   \n",
       "19998                                         0   \n",
       "19999                                         0   \n",
       "\n",
       "       Type_of_Employment_Realty agents  Type_of_Employment_Sales staff  \\\n",
       "0                                     0                               0   \n",
       "1                                     0                               1   \n",
       "2                                     0                               0   \n",
       "3                                     0                               0   \n",
       "4                                     0                               0   \n",
       "...                                 ...                             ...   \n",
       "19995                                 0                               0   \n",
       "19996                                 0                               0   \n",
       "19997                                 0                               0   \n",
       "19998                                 0                               0   \n",
       "19999                                 0                               0   \n",
       "\n",
       "       Type_of_Employment_Secretaries  Type_of_Employment_Security staff  \\\n",
       "0                                   0                                  0   \n",
       "1                                   0                                  0   \n",
       "2                                   0                                  0   \n",
       "3                                   0                                  0   \n",
       "4                                   0                                  0   \n",
       "...                               ...                                ...   \n",
       "19995                               0                                  0   \n",
       "19996                               0                                  0   \n",
       "19997                               0                                  0   \n",
       "19998                               0                                  0   \n",
       "19999                               0                                  0   \n",
       "\n",
       "       Type_of_Employment_Waiters/barmen staff  \n",
       "0                                            0  \n",
       "1                                            0  \n",
       "2                                            0  \n",
       "3                                            0  \n",
       "4                                            0  \n",
       "...                                        ...  \n",
       "19995                                        0  \n",
       "19996                                        0  \n",
       "19997                                        0  \n",
       "19998                                        0  \n",
       "19999                                        0  \n",
       "\n",
       "[20000 rows x 55 columns]"
      ]
     },
     "execution_count": 61,
     "metadata": {},
     "output_type": "execute_result"
    }
   ],
   "source": [
    "test_dumies"
   ]
  },
  {
   "cell_type": "code",
   "execution_count": 62,
   "id": "772e2431",
   "metadata": {},
   "outputs": [
    {
     "data": {
      "text/plain": [
       "Index(['Age', 'Income (USD)', 'Loan Amount Request (USD)',\n",
       "       'Current Loan Expenses (USD)', 'Dependents', 'Credit Score',\n",
       "       'No. of Defaults', 'Property ID', 'Property Age', 'Property Type',\n",
       "       'Property Price', 'Gender_F', 'Gender_M',\n",
       "       'Profession_Commercial associate', 'Profession_Maternity leave',\n",
       "       'Profession_Pensioner', 'Profession_State servant',\n",
       "       'Profession_Student', 'Profession_Unemployed', 'Profession_Working',\n",
       "       'Location_Rural', 'Location_Semi-Urban', 'Location_Urban',\n",
       "       'Expense Type 1_N', 'Expense Type 1_Y', 'Expense Type 2_N',\n",
       "       'Expense Type 2_Y', 'Has Active Credit Card_Active',\n",
       "       'Has Active Credit Card_Inactive', 'Has Active Credit Card_Unpossessed',\n",
       "       'Property Location_Rural', 'Property Location_Semi-Urban',\n",
       "       'Property Location_Urban', 'Co-Applicant_0', 'Co-Applicant_1',\n",
       "       'Income_Stability_High', 'Income_Stability_Low',\n",
       "       'Type_of_Employment_Accountants', 'Type_of_Employment_Cleaning staff',\n",
       "       'Type_of_Employment_Cooking staff', 'Type_of_Employment_Core staff',\n",
       "       'Type_of_Employment_Drivers', 'Type_of_Employment_HR staff',\n",
       "       'Type_of_Employment_High skill tech staff',\n",
       "       'Type_of_Employment_IT staff', 'Type_of_Employment_Laborers',\n",
       "       'Type_of_Employment_Low-skill Laborers', 'Type_of_Employment_Managers',\n",
       "       'Type_of_Employment_Medicine staff',\n",
       "       'Type_of_Employment_Private service staff',\n",
       "       'Type_of_Employment_Realty agents', 'Type_of_Employment_Sales staff',\n",
       "       'Type_of_Employment_Secretaries', 'Type_of_Employment_Security staff',\n",
       "       'Type_of_Employment_Waiters/barmen staff'],\n",
       "      dtype='object')"
      ]
     },
     "execution_count": 62,
     "metadata": {},
     "output_type": "execute_result"
    }
   ],
   "source": [
    "test_dumies.columns"
   ]
  },
  {
   "cell_type": "markdown",
   "id": "04ddfa71",
   "metadata": {},
   "source": [
    "## Applying Standard scalar"
   ]
  },
  {
   "cell_type": "code",
   "execution_count": 64,
   "id": "628a2d54",
   "metadata": {},
   "outputs": [],
   "source": [
    "X_test = test_dumies.values"
   ]
  },
  {
   "cell_type": "code",
   "execution_count": 65,
   "id": "cda86d38",
   "metadata": {},
   "outputs": [],
   "source": [
    "test.to_csv('now__predict.csv')"
   ]
  },
  {
   "cell_type": "code",
   "execution_count": null,
   "id": "3f0e498b",
   "metadata": {},
   "outputs": [],
   "source": []
  }
 ],
 "metadata": {
  "kernelspec": {
   "display_name": "Python 3",
   "language": "python",
   "name": "python3"
  },
  "language_info": {
   "codemirror_mode": {
    "name": "ipython",
    "version": 3
   },
   "file_extension": ".py",
   "mimetype": "text/x-python",
   "name": "python",
   "nbconvert_exporter": "python",
   "pygments_lexer": "ipython3",
   "version": "3.8.8"
  }
 },
 "nbformat": 4,
 "nbformat_minor": 5
}
